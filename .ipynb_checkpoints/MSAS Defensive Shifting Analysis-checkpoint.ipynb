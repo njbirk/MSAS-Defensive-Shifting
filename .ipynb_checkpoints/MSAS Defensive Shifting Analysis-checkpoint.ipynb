{
 "cells": [
  {
   "cell_type": "code",
   "execution_count": 1,
   "id": "6910ca03",
   "metadata": {},
   "outputs": [],
   "source": [
    "import pandas as pd\n",
    "import numpy as np\n",
    "import matplotlib.pyplot as plt\n",
    "import seaborn as sns\n",
    "import scipy.stats as stats"
   ]
  },
  {
   "cell_type": "code",
   "execution_count": 2,
   "id": "02c997e7",
   "metadata": {},
   "outputs": [],
   "source": [
    "df = pd.read_csv(\"Defense2021.csv\")"
   ]
  },
  {
   "cell_type": "code",
   "execution_count": 3,
   "id": "2862bca6",
   "metadata": {},
   "outputs": [
    {
     "data": {
      "text/html": [
       "<div>\n",
       "<style scoped>\n",
       "    .dataframe tbody tr th:only-of-type {\n",
       "        vertical-align: middle;\n",
       "    }\n",
       "\n",
       "    .dataframe tbody tr th {\n",
       "        vertical-align: top;\n",
       "    }\n",
       "\n",
       "    .dataframe thead th {\n",
       "        text-align: right;\n",
       "    }\n",
       "</style>\n",
       "<table border=\"1\" class=\"dataframe\">\n",
       "  <thead>\n",
       "    <tr style=\"text-align: right;\">\n",
       "      <th></th>\n",
       "      <th>Rk.</th>\n",
       "      <th>Year</th>\n",
       "      <th>Team</th>\n",
       "      <th>PA</th>\n",
       "      <th>Total Shifts</th>\n",
       "      <th>%</th>\n",
       "      <th>RHH - PA</th>\n",
       "      <th>RHH - Shifts</th>\n",
       "      <th>RHH - %</th>\n",
       "      <th>RHH - wOBA</th>\n",
       "      <th>LHH - PA</th>\n",
       "      <th>LHH - Shifts</th>\n",
       "      <th>LHH - %</th>\n",
       "      <th>LHH - wOBA</th>\n",
       "    </tr>\n",
       "  </thead>\n",
       "  <tbody>\n",
       "    <tr>\n",
       "      <th>0</th>\n",
       "      <td>1</td>\n",
       "      <td>2021</td>\n",
       "      <td>Orioles</td>\n",
       "      <td>6228</td>\n",
       "      <td>1604</td>\n",
       "      <td>25.8</td>\n",
       "      <td>4012</td>\n",
       "      <td>378</td>\n",
       "      <td>9.4</td>\n",
       "      <td>0.323</td>\n",
       "      <td>2216</td>\n",
       "      <td>1226</td>\n",
       "      <td>55.3</td>\n",
       "      <td>0.332</td>\n",
       "    </tr>\n",
       "    <tr>\n",
       "      <th>1</th>\n",
       "      <td>2</td>\n",
       "      <td>2021</td>\n",
       "      <td>D-backs</td>\n",
       "      <td>6223</td>\n",
       "      <td>1974</td>\n",
       "      <td>31.7</td>\n",
       "      <td>3682</td>\n",
       "      <td>832</td>\n",
       "      <td>22.6</td>\n",
       "      <td>0.375</td>\n",
       "      <td>2541</td>\n",
       "      <td>1142</td>\n",
       "      <td>44.9</td>\n",
       "      <td>0.341</td>\n",
       "    </tr>\n",
       "    <tr>\n",
       "      <th>2</th>\n",
       "      <td>3</td>\n",
       "      <td>2021</td>\n",
       "      <td>Cubs</td>\n",
       "      <td>6176</td>\n",
       "      <td>2177</td>\n",
       "      <td>35.2</td>\n",
       "      <td>3347</td>\n",
       "      <td>466</td>\n",
       "      <td>13.9</td>\n",
       "      <td>0.381</td>\n",
       "      <td>2829</td>\n",
       "      <td>1711</td>\n",
       "      <td>60.5</td>\n",
       "      <td>0.365</td>\n",
       "    </tr>\n",
       "    <tr>\n",
       "      <th>3</th>\n",
       "      <td>4</td>\n",
       "      <td>2021</td>\n",
       "      <td>Reds</td>\n",
       "      <td>6169</td>\n",
       "      <td>1584</td>\n",
       "      <td>25.7</td>\n",
       "      <td>3458</td>\n",
       "      <td>260</td>\n",
       "      <td>7.5</td>\n",
       "      <td>0.420</td>\n",
       "      <td>2711</td>\n",
       "      <td>1324</td>\n",
       "      <td>48.8</td>\n",
       "      <td>0.315</td>\n",
       "    </tr>\n",
       "    <tr>\n",
       "      <th>4</th>\n",
       "      <td>5</td>\n",
       "      <td>2021</td>\n",
       "      <td>Tigers</td>\n",
       "      <td>6154</td>\n",
       "      <td>2342</td>\n",
       "      <td>38.1</td>\n",
       "      <td>3804</td>\n",
       "      <td>760</td>\n",
       "      <td>20.0</td>\n",
       "      <td>0.346</td>\n",
       "      <td>2350</td>\n",
       "      <td>1582</td>\n",
       "      <td>67.3</td>\n",
       "      <td>0.316</td>\n",
       "    </tr>\n",
       "  </tbody>\n",
       "</table>\n",
       "</div>"
      ],
      "text/plain": [
       "   Rk.  Year     Team    PA  Total Shifts     %  RHH - PA  RHH - Shifts  \\\n",
       "0    1  2021  Orioles  6228          1604  25.8      4012           378   \n",
       "1    2  2021  D-backs  6223          1974  31.7      3682           832   \n",
       "2    3  2021     Cubs  6176          2177  35.2      3347           466   \n",
       "3    4  2021     Reds  6169          1584  25.7      3458           260   \n",
       "4    5  2021   Tigers  6154          2342  38.1      3804           760   \n",
       "\n",
       "   RHH - %  RHH - wOBA  LHH - PA  LHH - Shifts  LHH - %  LHH - wOBA  \n",
       "0      9.4       0.323      2216          1226     55.3       0.332  \n",
       "1     22.6       0.375      2541          1142     44.9       0.341  \n",
       "2     13.9       0.381      2829          1711     60.5       0.365  \n",
       "3      7.5       0.420      2711          1324     48.8       0.315  \n",
       "4     20.0       0.346      2350          1582     67.3       0.316  "
      ]
     },
     "execution_count": 3,
     "metadata": {},
     "output_type": "execute_result"
    }
   ],
   "source": [
    "df.head()"
   ]
  },
  {
   "cell_type": "code",
   "execution_count": 4,
   "id": "9786e643",
   "metadata": {},
   "outputs": [
    {
     "data": {
      "text/plain": [
       "Index(['Rk.', 'Year', 'Team', 'PA', 'Total Shifts', '%', 'RHH - PA',\n",
       "       'RHH - Shifts', 'RHH - %', 'RHH - wOBA', 'LHH - PA', 'LHH - Shifts',\n",
       "       'LHH - %', 'LHH - wOBA'],\n",
       "      dtype='object')"
      ]
     },
     "execution_count": 4,
     "metadata": {},
     "output_type": "execute_result"
    }
   ],
   "source": [
    "df.columns"
   ]
  },
  {
   "cell_type": "code",
   "execution_count": 5,
   "id": "e411c8ae",
   "metadata": {},
   "outputs": [
    {
     "data": {
      "text/plain": [
       "0.3503333333333334"
      ]
     },
     "metadata": {},
     "output_type": "display_data"
    },
    {
     "data": {
      "text/plain": [
       "0.31660000000000005"
      ]
     },
     "metadata": {},
     "output_type": "display_data"
    }
   ],
   "source": [
    "display(df['RHH - wOBA'].mean())\n",
    "display(df['LHH - wOBA'].mean())"
   ]
  },
  {
   "cell_type": "code",
   "execution_count": 6,
   "id": "8ef594b9",
   "metadata": {},
   "outputs": [
    {
     "data": {
      "text/plain": [
       "16.196666666666665"
      ]
     },
     "metadata": {},
     "output_type": "display_data"
    },
    {
     "data": {
      "text/plain": [
       "52.80666666666668"
      ]
     },
     "metadata": {},
     "output_type": "display_data"
    }
   ],
   "source": [
    "display(df['RHH - %'].mean())\n",
    "display(df['LHH - %'].mean())"
   ]
  },
  {
   "cell_type": "markdown",
   "id": "78514f73",
   "metadata": {},
   "source": [
    "In the two cells above, we see that teams shifted over three times more often in 2021 against left-handed batters compared to right-handed batters(16.2% against right-handed hitters and 52.8% against left-handed hitters). In addition, we see that while the wOBA values for both right- and left-handed hitters were relatively close, left handed hitters had a slightly higher wOBA overall (0.350 compared to 0.317)."
   ]
  },
  {
   "cell_type": "code",
   "execution_count": 7,
   "id": "eb051c01",
   "metadata": {},
   "outputs": [
    {
     "data": {
      "text/html": [
       "<div>\n",
       "<style scoped>\n",
       "    .dataframe tbody tr th:only-of-type {\n",
       "        vertical-align: middle;\n",
       "    }\n",
       "\n",
       "    .dataframe tbody tr th {\n",
       "        vertical-align: top;\n",
       "    }\n",
       "\n",
       "    .dataframe thead th {\n",
       "        text-align: right;\n",
       "    }\n",
       "</style>\n",
       "<table border=\"1\" class=\"dataframe\">\n",
       "  <thead>\n",
       "    <tr style=\"text-align: right;\">\n",
       "      <th></th>\n",
       "      <th>Rk.</th>\n",
       "      <th>Year</th>\n",
       "      <th>Team</th>\n",
       "      <th>PA</th>\n",
       "      <th>Total Shifts</th>\n",
       "      <th>%</th>\n",
       "      <th>RHH - PA</th>\n",
       "      <th>RHH - Shifts</th>\n",
       "      <th>RHH - %</th>\n",
       "      <th>RHH - wOBA</th>\n",
       "      <th>LHH - PA</th>\n",
       "      <th>LHH - Shifts</th>\n",
       "      <th>LHH - %</th>\n",
       "      <th>LHH - wOBA</th>\n",
       "    </tr>\n",
       "  </thead>\n",
       "  <tbody>\n",
       "    <tr>\n",
       "      <th>23</th>\n",
       "      <td>24</td>\n",
       "      <td>2021</td>\n",
       "      <td>Dodgers</td>\n",
       "      <td>5905</td>\n",
       "      <td>3165</td>\n",
       "      <td>53.6</td>\n",
       "      <td>3338</td>\n",
       "      <td>1403</td>\n",
       "      <td>42.0</td>\n",
       "      <td>0.293</td>\n",
       "      <td>2567</td>\n",
       "      <td>1762</td>\n",
       "      <td>68.6</td>\n",
       "      <td>0.277</td>\n",
       "    </tr>\n",
       "    <tr>\n",
       "      <th>28</th>\n",
       "      <td>29</td>\n",
       "      <td>2021</td>\n",
       "      <td>Mets</td>\n",
       "      <td>5764</td>\n",
       "      <td>2891</td>\n",
       "      <td>50.2</td>\n",
       "      <td>3263</td>\n",
       "      <td>1469</td>\n",
       "      <td>45.0</td>\n",
       "      <td>0.320</td>\n",
       "      <td>2501</td>\n",
       "      <td>1422</td>\n",
       "      <td>56.9</td>\n",
       "      <td>0.311</td>\n",
       "    </tr>\n",
       "    <tr>\n",
       "      <th>12</th>\n",
       "      <td>13</td>\n",
       "      <td>2021</td>\n",
       "      <td>Astros</td>\n",
       "      <td>6048</td>\n",
       "      <td>2792</td>\n",
       "      <td>46.2</td>\n",
       "      <td>3555</td>\n",
       "      <td>761</td>\n",
       "      <td>21.4</td>\n",
       "      <td>0.290</td>\n",
       "      <td>2493</td>\n",
       "      <td>2031</td>\n",
       "      <td>81.5</td>\n",
       "      <td>0.312</td>\n",
       "    </tr>\n",
       "    <tr>\n",
       "      <th>26</th>\n",
       "      <td>27</td>\n",
       "      <td>2021</td>\n",
       "      <td>Braves</td>\n",
       "      <td>5852</td>\n",
       "      <td>2276</td>\n",
       "      <td>38.9</td>\n",
       "      <td>3582</td>\n",
       "      <td>1197</td>\n",
       "      <td>33.4</td>\n",
       "      <td>0.319</td>\n",
       "      <td>2270</td>\n",
       "      <td>1079</td>\n",
       "      <td>47.5</td>\n",
       "      <td>0.323</td>\n",
       "    </tr>\n",
       "    <tr>\n",
       "      <th>4</th>\n",
       "      <td>5</td>\n",
       "      <td>2021</td>\n",
       "      <td>Tigers</td>\n",
       "      <td>6154</td>\n",
       "      <td>2342</td>\n",
       "      <td>38.1</td>\n",
       "      <td>3804</td>\n",
       "      <td>760</td>\n",
       "      <td>20.0</td>\n",
       "      <td>0.346</td>\n",
       "      <td>2350</td>\n",
       "      <td>1582</td>\n",
       "      <td>67.3</td>\n",
       "      <td>0.316</td>\n",
       "    </tr>\n",
       "  </tbody>\n",
       "</table>\n",
       "</div>"
      ],
      "text/plain": [
       "    Rk.  Year     Team    PA  Total Shifts     %  RHH - PA  RHH - Shifts  \\\n",
       "23   24  2021  Dodgers  5905          3165  53.6      3338          1403   \n",
       "28   29  2021     Mets  5764          2891  50.2      3263          1469   \n",
       "12   13  2021   Astros  6048          2792  46.2      3555           761   \n",
       "26   27  2021   Braves  5852          2276  38.9      3582          1197   \n",
       "4     5  2021   Tigers  6154          2342  38.1      3804           760   \n",
       "\n",
       "    RHH - %  RHH - wOBA  LHH - PA  LHH - Shifts  LHH - %  LHH - wOBA  \n",
       "23     42.0       0.293      2567          1762     68.6       0.277  \n",
       "28     45.0       0.320      2501          1422     56.9       0.311  \n",
       "12     21.4       0.290      2493          2031     81.5       0.312  \n",
       "26     33.4       0.319      2270          1079     47.5       0.323  \n",
       "4      20.0       0.346      2350          1582     67.3       0.316  "
      ]
     },
     "execution_count": 7,
     "metadata": {},
     "output_type": "execute_result"
    }
   ],
   "source": [
    "TopShifters = df.sort_values(by = \"%\", ascending = False)\n",
    "TopShifters.head()"
   ]
  },
  {
   "cell_type": "code",
   "execution_count": 8,
   "id": "b3d124ca",
   "metadata": {},
   "outputs": [
    {
     "data": {
      "image/png": "[encoded data removed]",
      "text/plain": [
       "<Figure size 432x288 with 1 Axes>"
      ]
     },
     "metadata": {
      "needs_background": "light"
     },
     "output_type": "display_data"
    },
    {
     "data": {
      "image/png": "[encoded data removed]",
      "text/plain": [
       "<Figure size 432x288 with 1 Axes>"
      ]
     },
     "metadata": {
      "needs_background": "light"
     },
     "output_type": "display_data"
    }
   ],
   "source": [
    "sns.regplot(\n",
    "    data=df,\n",
    "    x= 'RHH - %',\n",
    "    y= 'RHH - wOBA'\n",
    ")\n",
    "plt.show()\n",
    "plt.close()\n",
    "sns.regplot(\n",
    "    data=df,\n",
    "    x= 'LHH - %',\n",
    "    y= 'LHH - wOBA'\n",
    ")\n",
    "plt.show()  "
   ]
  },
  {
   "cell_type": "markdown",
   "id": "a4b89f2a",
   "metadata": {},
   "source": [
    "Upon graphing the relationship between shift% and opposing wOBA for right- and left-handed batters, we see a noticable negative correlation between shift% against right-handed batters and their opposing wOBA, while we see no such correlation for left-handed batters, even though teams shift 3 times more often against left-handed batters. To explore this further, we will add additional years to increase sample size."
   ]
  },
  {
   "cell_type": "code",
   "execution_count": 9,
   "id": "68dab14e",
   "metadata": {},
   "outputs": [
    {
     "name": "stdout",
     "output_type": "stream",
     "text": [
      "Defense2017.csv\n",
      "Defense2019.csv\n",
      "Defense2021.csv\n"
     ]
    },
    {
     "data": {
      "text/html": [
       "<div>\n",
       "<style scoped>\n",
       "    .dataframe tbody tr th:only-of-type {\n",
       "        vertical-align: middle;\n",
       "    }\n",
       "\n",
       "    .dataframe tbody tr th {\n",
       "        vertical-align: top;\n",
       "    }\n",
       "\n",
       "    .dataframe thead th {\n",
       "        text-align: right;\n",
       "    }\n",
       "</style>\n",
       "<table border=\"1\" class=\"dataframe\">\n",
       "  <thead>\n",
       "    <tr style=\"text-align: right;\">\n",
       "      <th></th>\n",
       "      <th>Rk.</th>\n",
       "      <th>Year</th>\n",
       "      <th>Team</th>\n",
       "      <th>PA</th>\n",
       "      <th>Total Shifts</th>\n",
       "      <th>%</th>\n",
       "      <th>RHH - PA</th>\n",
       "      <th>RHH - Shifts</th>\n",
       "      <th>RHH - %</th>\n",
       "      <th>RHH - wOBA</th>\n",
       "      <th>LHH - PA</th>\n",
       "      <th>LHH - Shifts</th>\n",
       "      <th>LHH - %</th>\n",
       "      <th>LHH - wOBA</th>\n",
       "    </tr>\n",
       "  </thead>\n",
       "  <tbody>\n",
       "    <tr>\n",
       "      <th>0</th>\n",
       "      <td>1</td>\n",
       "      <td>2017</td>\n",
       "      <td>Astros</td>\n",
       "      <td>6074</td>\n",
       "      <td>2085</td>\n",
       "      <td>34.3</td>\n",
       "      <td>3439</td>\n",
       "      <td>763</td>\n",
       "      <td>22.2</td>\n",
       "      <td>0.344</td>\n",
       "      <td>2635</td>\n",
       "      <td>1322</td>\n",
       "      <td>50.2</td>\n",
       "      <td>0.307</td>\n",
       "    </tr>\n",
       "    <tr>\n",
       "      <th>1</th>\n",
       "      <td>2</td>\n",
       "      <td>2017</td>\n",
       "      <td>Rays</td>\n",
       "      <td>6041</td>\n",
       "      <td>1770</td>\n",
       "      <td>29.3</td>\n",
       "      <td>3615</td>\n",
       "      <td>932</td>\n",
       "      <td>25.8</td>\n",
       "      <td>0.342</td>\n",
       "      <td>2426</td>\n",
       "      <td>838</td>\n",
       "      <td>34.5</td>\n",
       "      <td>0.296</td>\n",
       "    </tr>\n",
       "    <tr>\n",
       "      <th>2</th>\n",
       "      <td>3</td>\n",
       "      <td>2017</td>\n",
       "      <td>Brewers</td>\n",
       "      <td>6104</td>\n",
       "      <td>1523</td>\n",
       "      <td>25.0</td>\n",
       "      <td>3335</td>\n",
       "      <td>651</td>\n",
       "      <td>19.5</td>\n",
       "      <td>0.363</td>\n",
       "      <td>2769</td>\n",
       "      <td>872</td>\n",
       "      <td>31.5</td>\n",
       "      <td>0.352</td>\n",
       "    </tr>\n",
       "    <tr>\n",
       "      <th>3</th>\n",
       "      <td>4</td>\n",
       "      <td>2017</td>\n",
       "      <td>White Sox</td>\n",
       "      <td>6123</td>\n",
       "      <td>1185</td>\n",
       "      <td>19.4</td>\n",
       "      <td>3667</td>\n",
       "      <td>320</td>\n",
       "      <td>8.7</td>\n",
       "      <td>0.340</td>\n",
       "      <td>2456</td>\n",
       "      <td>865</td>\n",
       "      <td>35.2</td>\n",
       "      <td>0.364</td>\n",
       "    </tr>\n",
       "    <tr>\n",
       "      <th>4</th>\n",
       "      <td>5</td>\n",
       "      <td>2017</td>\n",
       "      <td>Orioles</td>\n",
       "      <td>6252</td>\n",
       "      <td>1158</td>\n",
       "      <td>18.5</td>\n",
       "      <td>3727</td>\n",
       "      <td>377</td>\n",
       "      <td>10.1</td>\n",
       "      <td>0.412</td>\n",
       "      <td>2525</td>\n",
       "      <td>781</td>\n",
       "      <td>30.9</td>\n",
       "      <td>0.340</td>\n",
       "    </tr>\n",
       "  </tbody>\n",
       "</table>\n",
       "</div>"
      ],
      "text/plain": [
       "   Rk.  Year       Team    PA  Total Shifts     %  RHH - PA  RHH - Shifts  \\\n",
       "0    1  2017     Astros  6074          2085  34.3      3439           763   \n",
       "1    2  2017       Rays  6041          1770  29.3      3615           932   \n",
       "2    3  2017    Brewers  6104          1523  25.0      3335           651   \n",
       "3    4  2017  White Sox  6123          1185  19.4      3667           320   \n",
       "4    5  2017    Orioles  6252          1158  18.5      3727           377   \n",
       "\n",
       "   RHH - %  RHH - wOBA  LHH - PA  LHH - Shifts  LHH - %  LHH - wOBA  \n",
       "0     22.2       0.344      2635          1322     50.2       0.307  \n",
       "1     25.8       0.342      2426           838     34.5       0.296  \n",
       "2     19.5       0.363      2769           872     31.5       0.352  \n",
       "3      8.7       0.340      2456           865     35.2       0.364  \n",
       "4     10.1       0.412      2525           781     30.9       0.340  "
      ]
     },
     "metadata": {},
     "output_type": "display_data"
    }
   ],
   "source": [
    "pd.set_option('display.max_rows', None)\n",
    "df_list = []\n",
    "for year in range(2017, 2022, 2):\n",
    "    #print(year)\n",
    "    excelstring=f\"Defense{year}.csv\"\n",
    "    print(excelstring)\n",
    "    \n",
    "    year_df = pd.read_csv(excelstring)\n",
    "#     print(year)\n",
    "#     display(year_df)\n",
    "    df_list.append(year_df)\n",
    "\n",
    "df_list.append(df)\n",
    "master_df = pd.concat(df_list, ignore_index=True, axis=0)\n",
    "display(master_df.head()) "
   ]
  },
  {
   "cell_type": "code",
   "execution_count": 10,
   "id": "1c70bc72",
   "metadata": {},
   "outputs": [
    {
     "data": {
      "text/plain": [
       "0.3567500000000002"
      ]
     },
     "metadata": {},
     "output_type": "display_data"
    },
    {
     "data": {
      "text/plain": [
       "0.3253916666666667"
      ]
     },
     "metadata": {},
     "output_type": "display_data"
    }
   ],
   "source": [
    "display(master_df['RHH - wOBA'].mean())\n",
    "display(master_df['LHH - wOBA'].mean())"
   ]
  },
  {
   "cell_type": "code",
   "execution_count": 11,
   "id": "4b35a1aa",
   "metadata": {},
   "outputs": [
    {
     "data": {
      "text/plain": [
       "12.967500000000001"
      ]
     },
     "metadata": {},
     "output_type": "display_data"
    },
    {
     "data": {
      "text/plain": [
       "42.46416666666665"
      ]
     },
     "metadata": {},
     "output_type": "display_data"
    }
   ],
   "source": [
    "display(master_df['RHH - %'].mean())\n",
    "display(master_df['LHH - %'].mean())"
   ]
  },
  {
   "cell_type": "markdown",
   "id": "bc6040c9",
   "metadata": {},
   "source": [
    "After adding two more additional years of data, we see that the difference between shift% for right- and left- handed batters is even more contrasting(nearly 4x more often against left handed batters). However, upon calculating the mean wOBA for right- and left- handed batters, we notice the opposite trend from the values calculated from the 2021 data; here, right-handed batters have a slighty higher wOBA as compared to left-handed batters (0.367 to 0.325). "
   ]
  },
  {
   "cell_type": "code",
   "execution_count": 12,
   "id": "56d310a0",
   "metadata": {},
   "outputs": [
    {
     "data": {
      "image/png": "[encoded data removed]",
      "text/plain": [
       "<Figure size 432x288 with 1 Axes>"
      ]
     },
     "metadata": {
      "needs_background": "light"
     },
     "output_type": "display_data"
    },
    {
     "data": {
      "image/png": "[encoded data removed]",
      "text/plain": [
       "<Figure size 432x288 with 1 Axes>"
      ]
     },
     "metadata": {
      "needs_background": "light"
     },
     "output_type": "display_data"
    }
   ],
   "source": [
    "sns.regplot(\n",
    "    data=master_df,\n",
    "    x= 'RHH - %',\n",
    "    y= 'RHH - wOBA'\n",
    ")\n",
    "plt.show()\n",
    "plt.close()\n",
    "sns.regplot(\n",
    "    data=master_df,\n",
    "    x= 'LHH - %',\n",
    "    y= 'LHH - wOBA'\n",
    ")\n",
    "plt.show()    "
   ]
  },
  {
   "cell_type": "code",
   "execution_count": 13,
   "id": "2195c694",
   "metadata": {},
   "outputs": [
    {
     "data": {
      "text/plain": [
       "14"
      ]
     },
     "metadata": {},
     "output_type": "display_data"
    },
    {
     "data": {
      "text/plain": [
       "98"
      ]
     },
     "metadata": {},
     "output_type": "display_data"
    }
   ],
   "source": [
    "top_shifters_RH = master_df.loc[master_df['RHH - %'] > 25.0]\n",
    "top_shifters_LH = master_df.loc[master_df['LHH - %'] > 25.0]\n",
    "top_shifters = [top_shifters_RH, top_shifters_LH]\n",
    "for df in top_shifters:\n",
    "    display(len(df))"
   ]
  },
  {
   "cell_type": "markdown",
   "id": "1feaa48a",
   "metadata": {},
   "source": [
    "Upon plotting the larger data set, we actually see very similar trends for right- and left- handed batters; as shift% increases, opposing wOBA declines. However, we can also clearly see the disparity in shift%; across 3 seasons, only there were only 14 instances where a team shifted more than 25% of the time against RHH in a season, while there were 98 instances where a team shifted more than 25% of the time."
   ]
  },
  {
   "cell_type": "code",
   "execution_count": 44,
   "id": "24aaaf9e",
   "metadata": {},
   "outputs": [
    {
     "data": {
      "image/png": "[encoded data removed]",
      "text/plain": [
       "<Figure size 432x288 with 1 Axes>"
      ]
     },
     "metadata": {
      "needs_background": "light"
     },
     "output_type": "display_data"
    }
   ],
   "source": [
    "dx = pd.read_csv(\"2021win%.csv\")\n",
    "da = dx[[ '%', 'Win - %']]\n",
    "sns.scatterplot(data=da, x='%', y='Win - %')\n",
    "plt.show()\n"
   ]
  }
 ],
 "metadata": {
  "kernelspec": {
   "display_name": "Python 3",
   "language": "python",
   "name": "python3"
  },
  "language_info": {
   "codemirror_mode": {
    "name": "ipython",
    "version": 3
   },
   "file_extension": ".py",
   "mimetype": "text/x-python",
   "name": "python",
   "nbconvert_exporter": "python",
   "pygments_lexer": "ipython3",
   "version": "3.8.8"
  }
 },
 "nbformat": 4,
 "nbformat_minor": 5
}
