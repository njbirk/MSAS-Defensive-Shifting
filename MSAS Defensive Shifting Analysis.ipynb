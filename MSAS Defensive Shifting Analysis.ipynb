{
 "cells": [
  {
   "cell_type": "code",
   "execution_count": 24,
   "id": "6910ca03",
   "metadata": {},
   "outputs": [],
   "source": [
    "import pandas as pd\n",
    "import numpy as np\n",
    "import matplotlib.pyplot as plt\n",
    "import seaborn as sns"
   ]
  },
  {
   "cell_type": "code",
   "execution_count": 25,
   "id": "02c997e7",
   "metadata": {},
   "outputs": [],
   "source": [
    "df = pd.read_csv(\"defense.csv\")"
   ]
  },
  {
   "cell_type": "code",
   "execution_count": 26,
   "id": "2862bca6",
   "metadata": {},
   "outputs": [
    {
     "data": {
      "text/html": [
       "<div>\n",
       "<style scoped>\n",
       "    .dataframe tbody tr th:only-of-type {\n",
       "        vertical-align: middle;\n",
       "    }\n",
       "\n",
       "    .dataframe tbody tr th {\n",
       "        vertical-align: top;\n",
       "    }\n",
       "\n",
       "    .dataframe thead th {\n",
       "        text-align: right;\n",
       "    }\n",
       "</style>\n",
       "<table border=\"1\" class=\"dataframe\">\n",
       "  <thead>\n",
       "    <tr style=\"text-align: right;\">\n",
       "      <th></th>\n",
       "      <th>Rk.</th>\n",
       "      <th>Year</th>\n",
       "      <th>Team</th>\n",
       "      <th>PA</th>\n",
       "      <th>Total Shifts</th>\n",
       "      <th>%</th>\n",
       "      <th>PA-RHH</th>\n",
       "      <th>Shifts-RHH</th>\n",
       "      <th>%-RHH</th>\n",
       "      <th>wOBA-RHH</th>\n",
       "      <th>PA-LHH</th>\n",
       "      <th>Shifts-LHH</th>\n",
       "      <th>%-LHH</th>\n",
       "      <th>wOBA-LHH</th>\n",
       "    </tr>\n",
       "  </thead>\n",
       "  <tbody>\n",
       "    <tr>\n",
       "      <th>0</th>\n",
       "      <td>1</td>\n",
       "      <td>2021</td>\n",
       "      <td>Orioles</td>\n",
       "      <td>6228</td>\n",
       "      <td>1604</td>\n",
       "      <td>25.8</td>\n",
       "      <td>4012</td>\n",
       "      <td>378</td>\n",
       "      <td>9.4</td>\n",
       "      <td>0.323</td>\n",
       "      <td>2216</td>\n",
       "      <td>1226</td>\n",
       "      <td>55.3</td>\n",
       "      <td>0.332</td>\n",
       "    </tr>\n",
       "    <tr>\n",
       "      <th>1</th>\n",
       "      <td>2</td>\n",
       "      <td>2021</td>\n",
       "      <td>D-backs</td>\n",
       "      <td>6223</td>\n",
       "      <td>1974</td>\n",
       "      <td>31.7</td>\n",
       "      <td>3682</td>\n",
       "      <td>832</td>\n",
       "      <td>22.6</td>\n",
       "      <td>0.375</td>\n",
       "      <td>2541</td>\n",
       "      <td>1142</td>\n",
       "      <td>44.9</td>\n",
       "      <td>0.341</td>\n",
       "    </tr>\n",
       "    <tr>\n",
       "      <th>2</th>\n",
       "      <td>3</td>\n",
       "      <td>2021</td>\n",
       "      <td>Cubs</td>\n",
       "      <td>6176</td>\n",
       "      <td>2177</td>\n",
       "      <td>35.2</td>\n",
       "      <td>3347</td>\n",
       "      <td>466</td>\n",
       "      <td>13.9</td>\n",
       "      <td>0.381</td>\n",
       "      <td>2829</td>\n",
       "      <td>1711</td>\n",
       "      <td>60.5</td>\n",
       "      <td>0.365</td>\n",
       "    </tr>\n",
       "    <tr>\n",
       "      <th>3</th>\n",
       "      <td>4</td>\n",
       "      <td>2021</td>\n",
       "      <td>Reds</td>\n",
       "      <td>6169</td>\n",
       "      <td>1584</td>\n",
       "      <td>25.7</td>\n",
       "      <td>3458</td>\n",
       "      <td>260</td>\n",
       "      <td>7.5</td>\n",
       "      <td>0.420</td>\n",
       "      <td>2711</td>\n",
       "      <td>1324</td>\n",
       "      <td>48.8</td>\n",
       "      <td>0.315</td>\n",
       "    </tr>\n",
       "    <tr>\n",
       "      <th>4</th>\n",
       "      <td>5</td>\n",
       "      <td>2021</td>\n",
       "      <td>Tigers</td>\n",
       "      <td>6154</td>\n",
       "      <td>2342</td>\n",
       "      <td>38.1</td>\n",
       "      <td>3804</td>\n",
       "      <td>760</td>\n",
       "      <td>20.0</td>\n",
       "      <td>0.346</td>\n",
       "      <td>2350</td>\n",
       "      <td>1582</td>\n",
       "      <td>67.3</td>\n",
       "      <td>0.316</td>\n",
       "    </tr>\n",
       "  </tbody>\n",
       "</table>\n",
       "</div>"
      ],
      "text/plain": [
       "   Rk.  Year     Team    PA  Total Shifts     %  PA-RHH  Shifts-RHH  %-RHH  \\\n",
       "0    1  2021  Orioles  6228          1604  25.8    4012         378    9.4   \n",
       "1    2  2021  D-backs  6223          1974  31.7    3682         832   22.6   \n",
       "2    3  2021     Cubs  6176          2177  35.2    3347         466   13.9   \n",
       "3    4  2021     Reds  6169          1584  25.7    3458         260    7.5   \n",
       "4    5  2021   Tigers  6154          2342  38.1    3804         760   20.0   \n",
       "\n",
       "   wOBA-RHH  PA-LHH  Shifts-LHH  %-LHH  wOBA-LHH  \n",
       "0     0.323    2216        1226   55.3     0.332  \n",
       "1     0.375    2541        1142   44.9     0.341  \n",
       "2     0.381    2829        1711   60.5     0.365  \n",
       "3     0.420    2711        1324   48.8     0.315  \n",
       "4     0.346    2350        1582   67.3     0.316  "
      ]
     },
     "execution_count": 26,
     "metadata": {},
     "output_type": "execute_result"
    }
   ],
   "source": [
    "df.head()"
   ]
  },
  {
   "cell_type": "code",
   "execution_count": 27,
   "id": "9786e643",
   "metadata": {},
   "outputs": [
    {
     "data": {
      "text/plain": [
       "Index(['Rk.', 'Year', 'Team', 'PA', 'Total Shifts', '%', 'PA-RHH',\n",
       "       'Shifts-RHH', '%-RHH', 'wOBA-RHH', 'PA-LHH', 'Shifts-LHH', '%-LHH',\n",
       "       'wOBA-LHH'],\n",
       "      dtype='object')"
      ]
     },
     "execution_count": 27,
     "metadata": {},
     "output_type": "execute_result"
    }
   ],
   "source": [
    "df.columns"
   ]
  },
  {
   "cell_type": "code",
   "execution_count": 28,
   "id": "b09ba437",
   "metadata": {},
   "outputs": [],
   "source": [
    "compare_df = [[df['%-RHH'], df['wOBA-RHH'], df['wOBA-LHH']]]"
   ]
  },
  {
   "cell_type": "code",
   "execution_count": 29,
   "id": "e411c8ae",
   "metadata": {},
   "outputs": [
    {
     "data": {
      "text/plain": [
       "0.3503333333333334"
      ]
     },
     "metadata": {},
     "output_type": "display_data"
    },
    {
     "data": {
      "text/plain": [
       "0.31660000000000005"
      ]
     },
     "metadata": {},
     "output_type": "display_data"
    }
   ],
   "source": [
    "display(df['wOBA-RHH'].mean())\n",
    "display(df['wOBA-LHH'].mean())"
   ]
  },
  {
   "cell_type": "code",
   "execution_count": 30,
   "id": "8ef594b9",
   "metadata": {},
   "outputs": [
    {
     "data": {
      "text/plain": [
       "16.196666666666665"
      ]
     },
     "metadata": {},
     "output_type": "display_data"
    },
    {
     "data": {
      "text/plain": [
       "52.80666666666668"
      ]
     },
     "metadata": {},
     "output_type": "display_data"
    }
   ],
   "source": [
    "display(df['%-RHH'].mean())\n",
    "display(df['%-LHH'].mean())"
   ]
  },
  {
   "cell_type": "code",
   "execution_count": 31,
   "id": "eb051c01",
   "metadata": {},
   "outputs": [
    {
     "data": {
      "text/html": [
       "<div>\n",
       "<style scoped>\n",
       "    .dataframe tbody tr th:only-of-type {\n",
       "        vertical-align: middle;\n",
       "    }\n",
       "\n",
       "    .dataframe tbody tr th {\n",
       "        vertical-align: top;\n",
       "    }\n",
       "\n",
       "    .dataframe thead th {\n",
       "        text-align: right;\n",
       "    }\n",
       "</style>\n",
       "<table border=\"1\" class=\"dataframe\">\n",
       "  <thead>\n",
       "    <tr style=\"text-align: right;\">\n",
       "      <th></th>\n",
       "      <th>Rk.</th>\n",
       "      <th>Year</th>\n",
       "      <th>Team</th>\n",
       "      <th>PA</th>\n",
       "      <th>Total Shifts</th>\n",
       "      <th>%</th>\n",
       "      <th>PA-RHH</th>\n",
       "      <th>Shifts-RHH</th>\n",
       "      <th>%-RHH</th>\n",
       "      <th>wOBA-RHH</th>\n",
       "      <th>PA-LHH</th>\n",
       "      <th>Shifts-LHH</th>\n",
       "      <th>%-LHH</th>\n",
       "      <th>wOBA-LHH</th>\n",
       "    </tr>\n",
       "  </thead>\n",
       "  <tbody>\n",
       "    <tr>\n",
       "      <th>23</th>\n",
       "      <td>24</td>\n",
       "      <td>2021</td>\n",
       "      <td>Dodgers</td>\n",
       "      <td>5905</td>\n",
       "      <td>3165</td>\n",
       "      <td>53.6</td>\n",
       "      <td>3338</td>\n",
       "      <td>1403</td>\n",
       "      <td>42.0</td>\n",
       "      <td>0.293</td>\n",
       "      <td>2567</td>\n",
       "      <td>1762</td>\n",
       "      <td>68.6</td>\n",
       "      <td>0.277</td>\n",
       "    </tr>\n",
       "    <tr>\n",
       "      <th>28</th>\n",
       "      <td>29</td>\n",
       "      <td>2021</td>\n",
       "      <td>Mets</td>\n",
       "      <td>5764</td>\n",
       "      <td>2891</td>\n",
       "      <td>50.2</td>\n",
       "      <td>3263</td>\n",
       "      <td>1469</td>\n",
       "      <td>45.0</td>\n",
       "      <td>0.320</td>\n",
       "      <td>2501</td>\n",
       "      <td>1422</td>\n",
       "      <td>56.9</td>\n",
       "      <td>0.311</td>\n",
       "    </tr>\n",
       "    <tr>\n",
       "      <th>12</th>\n",
       "      <td>13</td>\n",
       "      <td>2021</td>\n",
       "      <td>Astros</td>\n",
       "      <td>6048</td>\n",
       "      <td>2792</td>\n",
       "      <td>46.2</td>\n",
       "      <td>3555</td>\n",
       "      <td>761</td>\n",
       "      <td>21.4</td>\n",
       "      <td>0.290</td>\n",
       "      <td>2493</td>\n",
       "      <td>2031</td>\n",
       "      <td>81.5</td>\n",
       "      <td>0.312</td>\n",
       "    </tr>\n",
       "    <tr>\n",
       "      <th>26</th>\n",
       "      <td>27</td>\n",
       "      <td>2021</td>\n",
       "      <td>Braves</td>\n",
       "      <td>5852</td>\n",
       "      <td>2276</td>\n",
       "      <td>38.9</td>\n",
       "      <td>3582</td>\n",
       "      <td>1197</td>\n",
       "      <td>33.4</td>\n",
       "      <td>0.319</td>\n",
       "      <td>2270</td>\n",
       "      <td>1079</td>\n",
       "      <td>47.5</td>\n",
       "      <td>0.323</td>\n",
       "    </tr>\n",
       "    <tr>\n",
       "      <th>4</th>\n",
       "      <td>5</td>\n",
       "      <td>2021</td>\n",
       "      <td>Tigers</td>\n",
       "      <td>6154</td>\n",
       "      <td>2342</td>\n",
       "      <td>38.1</td>\n",
       "      <td>3804</td>\n",
       "      <td>760</td>\n",
       "      <td>20.0</td>\n",
       "      <td>0.346</td>\n",
       "      <td>2350</td>\n",
       "      <td>1582</td>\n",
       "      <td>67.3</td>\n",
       "      <td>0.316</td>\n",
       "    </tr>\n",
       "  </tbody>\n",
       "</table>\n",
       "</div>"
      ],
      "text/plain": [
       "    Rk.  Year     Team    PA  Total Shifts     %  PA-RHH  Shifts-RHH  %-RHH  \\\n",
       "23   24  2021  Dodgers  5905          3165  53.6    3338        1403   42.0   \n",
       "28   29  2021     Mets  5764          2891  50.2    3263        1469   45.0   \n",
       "12   13  2021   Astros  6048          2792  46.2    3555         761   21.4   \n",
       "26   27  2021   Braves  5852          2276  38.9    3582        1197   33.4   \n",
       "4     5  2021   Tigers  6154          2342  38.1    3804         760   20.0   \n",
       "\n",
       "    wOBA-RHH  PA-LHH  Shifts-LHH  %-LHH  wOBA-LHH  \n",
       "23     0.293    2567        1762   68.6     0.277  \n",
       "28     0.320    2501        1422   56.9     0.311  \n",
       "12     0.290    2493        2031   81.5     0.312  \n",
       "26     0.319    2270        1079   47.5     0.323  \n",
       "4      0.346    2350        1582   67.3     0.316  "
      ]
     },
     "execution_count": 31,
     "metadata": {},
     "output_type": "execute_result"
    }
   ],
   "source": [
    "TopShifters = df.sort_values(by = \"%\", ascending = False)\n",
    "TopShifters.head()"
   ]
  },
  {
   "cell_type": "code",
   "execution_count": 41,
   "id": "937ce26b",
   "metadata": {},
   "outputs": [
    {
     "data": {
      "image/png": "[encoded data removed]",
      "text/plain": [
       "<Figure size 432x288 with 1 Axes>"
      ]
     },
     "metadata": {
      "needs_background": "light"
     },
     "output_type": "display_data"
    },
    {
     "data": {
      "image/png": "[encoded data removed]",
      "text/plain": [
       "<Figure size 432x288 with 1 Axes>"
      ]
     },
     "metadata": {
      "needs_background": "light"
     },
     "output_type": "display_data"
    }
   ],
   "source": [
    "sns.regplot(\n",
    "    data=df,\n",
    "    x= '%-RHH',\n",
    "    y= 'wOBA-RHH'\n",
    ")\n",
    "plt.show()\n",
    "plt.close()\n",
    "sns.regplot(\n",
    "    data=df,\n",
    "    x= '%-LHH',\n",
    "    y= 'wOBA-LHH'\n",
    ")\n",
    "plt.show()    "
   ]
  },
  {
   "cell_type": "code",
   "execution_count": null,
   "id": "68dab14e",
   "metadata": {},
   "outputs": [],
   "source": []
  }
 ],
 "metadata": {
  "kernelspec": {
   "display_name": "Python 3",
   "language": "python",
   "name": "python3"
  },
  "language_info": {
   "codemirror_mode": {
    "name": "ipython",
    "version": 3
   },
   "file_extension": ".py",
   "mimetype": "text/x-python",
   "name": "python",
   "nbconvert_exporter": "python",
   "pygments_lexer": "ipython3",
   "version": "3.8.8"
  }
 },
 "nbformat": 4,
 "nbformat_minor": 5
}
